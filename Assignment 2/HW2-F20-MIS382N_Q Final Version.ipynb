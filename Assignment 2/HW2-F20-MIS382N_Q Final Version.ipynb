{
 "cells": [
  {
   "cell_type": "markdown",
   "metadata": {},
   "source": [
    "\n",
    "# <p style=\"text-align: center;\">MIS 382N: ADVANCED PREDICTIVE MODELING - MSBA</p>\n",
    "# <p style=\"text-align: center;\">Assignment 2</p>\n",
    "## <p style=\"text-align: center;\">Total points: 80 </p>\n",
    "## <p style=\"text-align: center;\">Due: September 30, submitted via Canvas by 11:59 pm</p>\n",
    "\n",
    "Your homework should be written in a **Jupyter notebook**. You may work in groups of two if you wish. Your partner needs to be from the same section. Only one student per team needs to submit the assignment on Canvas.  But be sure to include name and UTEID for both students.  Homework groups will be created and managed through Canvas, so please do not arbitrarily change your homework group. If you do change, let the TA know. \n",
    "\n",
    "Also, please make sure your code runs and the graphics (and anything else) are displayed in your notebook before submitting. (%matplotlib inline)\n",
    "\n",
    "### Name(s)\n",
    "#### 1. Chirag Ramesh - cr44748\n",
    "#### 2. Matthew Leong - mcl2994"
   ]
  },
  {
   "cell_type": "markdown",
   "metadata": {},
   "source": [
    "## My Contribution:"
   ]
  },
  {
   "cell_type": "markdown",
   "metadata": {},
   "source": [
    "I handled problem 3 regarding nonlinear regression models and also problem 4 regarding implementing a stochastic gradient descent method on a nonlinear model based on a class shell. Additionally, I found errors on the Teacher Assistant's provided class code and promptly fixed them.  \n",
    "  \n",
    "Chirag handled the code and part of the analysis for problems 1 and 2. "
   ]
  },
  {
   "cell_type": "markdown",
   "metadata": {
    "colab_type": "text",
    "id": "W5ZpdgFLzMCK"
   },
   "source": [
    "# Question 1 (Understanding ElasticNet, 30 points)\n",
    "Although lots of past studies have been conducted on factors affecting life expectancy using demographic variables, income composition and mortality rates, it was found that the effect of immunization and human development index was not taken into account. Hence, this motivates us to resolve this factor by formulating a regression model based on mixed effects model and multiple linear regression while considering data from 2014 for all countries. Here, important immunization like Hepatitis B, Polio and Diphtheria will also be considered. \n",
    "\n",
    "This dataset was taken from https://www.kaggle.com/kumarajarshi/life-expectancy-who.\n",
    "\n",
    "**Please use Python 3.6+ for this assignment.**"
   ]
  },
  {
   "cell_type": "markdown",
   "metadata": {
    "colab_type": "text",
    "id": "As8wi1l8zY1f"
   },
   "source": [
    "First, we import packages and clean up the obtained dataset. We consider the `Life Expectancy` variable as the dependant variable whereas others are assumed to be independent variables."
   ]
  },
  {
   "cell_type": "code",
   "execution_count": 1,
   "metadata": {
    "colab": {
     "base_uri": "https://localhost:8080/",
     "height": 51
    },
    "colab_type": "code",
    "id": "FOU1ODXmfNlG",
    "outputId": "3e0dacba-1114-4244-be8f-3183dca50c2c"
   },
   "outputs": [],
   "source": [
    "import pandas as pd\n",
    "import numpy as np\n",
    "import matplotlib.pyplot as plt\n",
    "from tqdm import tqdm\n",
    "import seaborn as sns\n",
    "from sklearn.preprocessing import LabelEncoder\n",
    "from sklearn.model_selection import train_test_split\n",
    "from sklearn.linear_model import LinearRegression\n",
    "import warnings\n",
    "warnings.filterwarnings('ignore')"
   ]
  },
  {
   "cell_type": "code",
   "execution_count": 2,
   "metadata": {
    "colab": {
     "base_uri": "https://localhost:8080/",
     "height": 51
    },
    "colab_type": "code",
    "id": "ctY6Ogo8fX8-",
    "outputId": "a56bdbdb-3a5e-464c-d9b2-0611b4682b6d"
   },
   "outputs": [
    {
     "name": "stdout",
     "output_type": "stream",
     "text": [
      "(2938, 21)\n",
      "(131, 21)\n"
     ]
    }
   ],
   "source": [
    "df = pd.read_csv(\"life.csv\", index_col=0)\n",
    "print(df.shape)\n",
    "df = df.loc[df['Year']==2014, :]\n",
    "df = df.drop('Year', axis=1)\n",
    "df = pd.get_dummies(df, columns=['Status'])\n",
    "df = df.dropna()\n",
    "print(df.shape)"
   ]
  },
  {
   "cell_type": "code",
   "execution_count": 3,
   "metadata": {
    "colab": {
     "base_uri": "https://localhost:8080/",
     "height": 306
    },
    "colab_type": "code",
    "id": "MqH3uOrbf-WO",
    "outputId": "83be1413-c739-460f-e109-b45d039a9844"
   },
   "outputs": [
    {
     "data": {
      "text/html": [
       "<div>\n",
       "<style scoped>\n",
       "    .dataframe tbody tr th:only-of-type {\n",
       "        vertical-align: middle;\n",
       "    }\n",
       "\n",
       "    .dataframe tbody tr th {\n",
       "        vertical-align: top;\n",
       "    }\n",
       "\n",
       "    .dataframe thead th {\n",
       "        text-align: right;\n",
       "    }\n",
       "</style>\n",
       "<table border=\"1\" class=\"dataframe\">\n",
       "  <thead>\n",
       "    <tr style=\"text-align: right;\">\n",
       "      <th></th>\n",
       "      <th>Life expectancy</th>\n",
       "      <th>Adult Mortality</th>\n",
       "      <th>infant deaths</th>\n",
       "      <th>Alcohol</th>\n",
       "      <th>percentage expenditure</th>\n",
       "      <th>Hepatitis B</th>\n",
       "      <th>Measles</th>\n",
       "      <th>BMI</th>\n",
       "      <th>under-five deaths</th>\n",
       "      <th>Polio</th>\n",
       "      <th>...</th>\n",
       "      <th>Diphtheria</th>\n",
       "      <th>HIV/AIDS</th>\n",
       "      <th>GDP</th>\n",
       "      <th>Population</th>\n",
       "      <th>thinness  1-19 years</th>\n",
       "      <th>thinness 5-9 years</th>\n",
       "      <th>Income composition of resources</th>\n",
       "      <th>Schooling</th>\n",
       "      <th>Status_Developed</th>\n",
       "      <th>Status_Developing</th>\n",
       "    </tr>\n",
       "    <tr>\n",
       "      <th>Country</th>\n",
       "      <th></th>\n",
       "      <th></th>\n",
       "      <th></th>\n",
       "      <th></th>\n",
       "      <th></th>\n",
       "      <th></th>\n",
       "      <th></th>\n",
       "      <th></th>\n",
       "      <th></th>\n",
       "      <th></th>\n",
       "      <th></th>\n",
       "      <th></th>\n",
       "      <th></th>\n",
       "      <th></th>\n",
       "      <th></th>\n",
       "      <th></th>\n",
       "      <th></th>\n",
       "      <th></th>\n",
       "      <th></th>\n",
       "      <th></th>\n",
       "      <th></th>\n",
       "    </tr>\n",
       "  </thead>\n",
       "  <tbody>\n",
       "    <tr>\n",
       "      <th>Afghanistan</th>\n",
       "      <td>59.9</td>\n",
       "      <td>271.0</td>\n",
       "      <td>64</td>\n",
       "      <td>0.01</td>\n",
       "      <td>73.523582</td>\n",
       "      <td>62.0</td>\n",
       "      <td>492</td>\n",
       "      <td>18.6</td>\n",
       "      <td>86</td>\n",
       "      <td>58.0</td>\n",
       "      <td>...</td>\n",
       "      <td>62.0</td>\n",
       "      <td>0.1</td>\n",
       "      <td>612.696514</td>\n",
       "      <td>327582.0</td>\n",
       "      <td>17.5</td>\n",
       "      <td>17.5</td>\n",
       "      <td>0.476</td>\n",
       "      <td>10.0</td>\n",
       "      <td>0</td>\n",
       "      <td>1</td>\n",
       "    </tr>\n",
       "    <tr>\n",
       "      <th>Albania</th>\n",
       "      <td>77.5</td>\n",
       "      <td>8.0</td>\n",
       "      <td>0</td>\n",
       "      <td>4.51</td>\n",
       "      <td>428.749067</td>\n",
       "      <td>98.0</td>\n",
       "      <td>0</td>\n",
       "      <td>57.2</td>\n",
       "      <td>1</td>\n",
       "      <td>98.0</td>\n",
       "      <td>...</td>\n",
       "      <td>98.0</td>\n",
       "      <td>0.1</td>\n",
       "      <td>4575.763787</td>\n",
       "      <td>288914.0</td>\n",
       "      <td>1.2</td>\n",
       "      <td>1.3</td>\n",
       "      <td>0.761</td>\n",
       "      <td>14.2</td>\n",
       "      <td>0</td>\n",
       "      <td>1</td>\n",
       "    </tr>\n",
       "    <tr>\n",
       "      <th>Algeria</th>\n",
       "      <td>75.4</td>\n",
       "      <td>11.0</td>\n",
       "      <td>21</td>\n",
       "      <td>0.01</td>\n",
       "      <td>54.237318</td>\n",
       "      <td>95.0</td>\n",
       "      <td>0</td>\n",
       "      <td>58.4</td>\n",
       "      <td>24</td>\n",
       "      <td>95.0</td>\n",
       "      <td>...</td>\n",
       "      <td>95.0</td>\n",
       "      <td>0.1</td>\n",
       "      <td>547.851700</td>\n",
       "      <td>39113313.0</td>\n",
       "      <td>6.0</td>\n",
       "      <td>5.8</td>\n",
       "      <td>0.741</td>\n",
       "      <td>14.4</td>\n",
       "      <td>0</td>\n",
       "      <td>1</td>\n",
       "    </tr>\n",
       "    <tr>\n",
       "      <th>Angola</th>\n",
       "      <td>51.7</td>\n",
       "      <td>348.0</td>\n",
       "      <td>67</td>\n",
       "      <td>8.33</td>\n",
       "      <td>23.965612</td>\n",
       "      <td>64.0</td>\n",
       "      <td>11699</td>\n",
       "      <td>22.7</td>\n",
       "      <td>101</td>\n",
       "      <td>68.0</td>\n",
       "      <td>...</td>\n",
       "      <td>64.0</td>\n",
       "      <td>2.0</td>\n",
       "      <td>479.312240</td>\n",
       "      <td>2692466.0</td>\n",
       "      <td>8.5</td>\n",
       "      <td>8.3</td>\n",
       "      <td>0.527</td>\n",
       "      <td>11.4</td>\n",
       "      <td>0</td>\n",
       "      <td>1</td>\n",
       "    </tr>\n",
       "    <tr>\n",
       "      <th>Argentina</th>\n",
       "      <td>76.2</td>\n",
       "      <td>118.0</td>\n",
       "      <td>8</td>\n",
       "      <td>7.93</td>\n",
       "      <td>847.371746</td>\n",
       "      <td>94.0</td>\n",
       "      <td>1</td>\n",
       "      <td>62.2</td>\n",
       "      <td>9</td>\n",
       "      <td>92.0</td>\n",
       "      <td>...</td>\n",
       "      <td>94.0</td>\n",
       "      <td>0.1</td>\n",
       "      <td>12245.256450</td>\n",
       "      <td>42981515.0</td>\n",
       "      <td>1.0</td>\n",
       "      <td>0.9</td>\n",
       "      <td>0.825</td>\n",
       "      <td>17.3</td>\n",
       "      <td>0</td>\n",
       "      <td>1</td>\n",
       "    </tr>\n",
       "  </tbody>\n",
       "</table>\n",
       "<p>5 rows × 21 columns</p>\n",
       "</div>"
      ],
      "text/plain": [
       "             Life expectancy   Adult Mortality  infant deaths  Alcohol  \\\n",
       "Country                                                                  \n",
       "Afghanistan              59.9            271.0             64     0.01   \n",
       "Albania                  77.5              8.0              0     4.51   \n",
       "Algeria                  75.4             11.0             21     0.01   \n",
       "Angola                   51.7            348.0             67     8.33   \n",
       "Argentina                76.2            118.0              8     7.93   \n",
       "\n",
       "             percentage expenditure  Hepatitis B  Measles    BMI   \\\n",
       "Country                                                             \n",
       "Afghanistan               73.523582         62.0       492   18.6   \n",
       "Albania                  428.749067         98.0         0   57.2   \n",
       "Algeria                   54.237318         95.0         0   58.4   \n",
       "Angola                    23.965612         64.0     11699   22.7   \n",
       "Argentina                847.371746         94.0         1   62.2   \n",
       "\n",
       "             under-five deaths   Polio  ...  Diphtheria    HIV/AIDS  \\\n",
       "Country                                 ...                           \n",
       "Afghanistan                  86   58.0  ...         62.0        0.1   \n",
       "Albania                       1   98.0  ...         98.0        0.1   \n",
       "Algeria                      24   95.0  ...         95.0        0.1   \n",
       "Angola                      101   68.0  ...         64.0        2.0   \n",
       "Argentina                     9   92.0  ...         94.0        0.1   \n",
       "\n",
       "                      GDP  Population   thinness  1-19 years  \\\n",
       "Country                                                        \n",
       "Afghanistan    612.696514    327582.0                   17.5   \n",
       "Albania       4575.763787    288914.0                    1.2   \n",
       "Algeria        547.851700  39113313.0                    6.0   \n",
       "Angola         479.312240   2692466.0                    8.5   \n",
       "Argentina    12245.256450  42981515.0                    1.0   \n",
       "\n",
       "              thinness 5-9 years  Income composition of resources  Schooling  \\\n",
       "Country                                                                        \n",
       "Afghanistan                 17.5                            0.476       10.0   \n",
       "Albania                      1.3                            0.761       14.2   \n",
       "Algeria                      5.8                            0.741       14.4   \n",
       "Angola                       8.3                            0.527       11.4   \n",
       "Argentina                    0.9                            0.825       17.3   \n",
       "\n",
       "             Status_Developed  Status_Developing  \n",
       "Country                                           \n",
       "Afghanistan                 0                  1  \n",
       "Albania                     0                  1  \n",
       "Algeria                     0                  1  \n",
       "Angola                      0                  1  \n",
       "Argentina                   0                  1  \n",
       "\n",
       "[5 rows x 21 columns]"
      ]
     },
     "execution_count": 3,
     "metadata": {},
     "output_type": "execute_result"
    }
   ],
   "source": [
    "df.head()"
   ]
  },
  {
   "cell_type": "code",
   "execution_count": 4,
   "metadata": {},
   "outputs": [],
   "source": [
    "# Creating training and testing dataset\n",
    "y = df.iloc[:, 0]\n",
    "X = df.iloc[:, 1:]\n",
    "\n",
    "X_train, X_test, y_train, y_test = train_test_split(X, y, test_size=0.20, random_state = 42)"
   ]
  },
  {
   "cell_type": "markdown",
   "metadata": {
    "colab_type": "text",
    "id": "w8ngMwYK0uZ4"
   },
   "source": [
    "## Question 1.1 (5 points) \n",
    "Run Linear regression on the train dataset and print the $R^2$ values measured on (a) the training dataset and (b) the test dataset."
   ]
  },
  {
   "cell_type": "markdown",
   "metadata": {
    "colab_type": "text",
    "id": "uNI4UUH7-x00"
   },
   "source": [
    "## Answer 1.1"
   ]
  },
  {
   "cell_type": "code",
   "execution_count": 5,
   "metadata": {},
   "outputs": [
    {
     "name": "stdout",
     "output_type": "stream",
     "text": [
      "Train R2: 0.8869822224758938\n",
      "Test R2: 0.8355055233744485\n"
     ]
    }
   ],
   "source": [
    "from sklearn import linear_model\n",
    "from sklearn.metrics import r2_score\n",
    "\n",
    "mlr = linear_model.LinearRegression()\n",
    "mlr.fit(X_train, y_train)\n",
    "\n",
    "train_pred = mlr.predict(X_train)\n",
    "test_pred = mlr.predict(X_test)\n",
    "train_R2 = r2_score(y_train, train_pred)\n",
    "test_R2 = r2_score(y_test, test_pred)\n",
    "\n",
    "print('Train R2:', train_R2)\n",
    "print('Test R2:', test_R2)"
   ]
  },
  {
   "cell_type": "markdown",
   "metadata": {
    "colab_type": "text",
    "id": "Ng9V_xUX2AZt"
   },
   "source": [
    "## Question 1.2 (8 points) \n",
    "Run linear regression using Lasso and determine the value of $\\alpha$ that results in best test set performance. Consider `alphas=10**np.linspace(1,-2,100)*0.5`. Display the best value of $\\alpha$ as well as the corresponsing $R^2$ score on test set. Use the following parameters in Lasso model. Finally, store the best model separately. Also, use the co-efficients obtained and select the [columns with non-zero weights](https://stackoverflow.com/questions/62323713/selecting-columns-of-dataframe-where-lasso-coefficient-is-nonzero) and use them to create `X_train_lasso` and `X_test_lasso`. Show how many non-zero columns are present.\n",
    "\n",
    "    copy_X=True\n",
    "    normalize=True # Normalizes data using StandardScaler()\n",
    "    random_state=42"
   ]
  },
  {
   "cell_type": "markdown",
   "metadata": {
    "colab_type": "text",
    "id": "x2ZOelRg-RQ3"
   },
   "source": [
    "## Answer 1.2"
   ]
  },
  {
   "cell_type": "code",
   "execution_count": 6,
   "metadata": {},
   "outputs": [
    {
     "name": "stdout",
     "output_type": "stream",
     "text": [
      "The best alpha value is:  0.046630167344161\n",
      "Lasso R2 is:  0.7326606923177986\n"
     ]
    }
   ],
   "source": [
    "from sklearn.preprocessing import StandardScaler\n",
    "alphas=10**np.linspace(1,-2,100)*0.5 \n",
    "scaler = StandardScaler()\n",
    "\n",
    "train_scalex = scaler.fit_transform(X_train)\n",
    "test_scalex = scaler.fit_transform(X_test)\n",
    "lasso_regression = linear_model.LassoCV(alphas=alphas, normalize=True, copy_X=True, random_state=42) \n",
    "lasso_model = lasso_regression.fit(train_scalex, y_train)\n",
    "lasso_pred_y = lasso_model.predict(test_scalex)\n",
    "test_R2lasso = r2_score(y_test, lasso_pred_y)\n",
    "\n",
    "print('The best alpha value is: ',lasso_model.alpha_)\n",
    "print('Lasso R2 is: ',test_R2lasso)"
   ]
  },
  {
   "cell_type": "code",
   "execution_count": 7,
   "metadata": {},
   "outputs": [
    {
     "name": "stdout",
     "output_type": "stream",
     "text": [
      "6\n",
      "6\n"
     ]
    },
    {
     "data": {
      "text/plain": [
       "Index(['Adult Mortality', 'Total expenditure', ' HIV/AIDS',\n",
       "       'Income composition of resources', 'Status_Developed',\n",
       "       'Status_Developing'],\n",
       "      dtype='object')"
      ]
     },
     "execution_count": 7,
     "metadata": {},
     "output_type": "execute_result"
    }
   ],
   "source": [
    "X_train_lasso = X_train.iloc[:,lasso_model.coef_ !=0]\n",
    "X_test_lasso = X_test.iloc[:,lasso_model.coef_ !=0]\n",
    "print(len(X_train_lasso.columns))\n",
    "print(len(X_test_lasso.columns))\n",
    "X_test_lasso.columns"
   ]
  },
  {
   "cell_type": "markdown",
   "metadata": {
    "colab_type": "text",
    "id": "yZgK-IsT29fa"
   },
   "source": [
    "## Question 1.3 (6 points) \n",
    "Run linear regression using Ridge and determine the value of $\\alpha$ that results in best test set performance. Consider `alphas=10**np.linspace(1,-2,100)*0.5`. Display the best value of $\\alpha$ as well as the corresponsing $R^2$ score on test set. Use the following parameters in Ridge model.\n",
    "\n",
    "    copy_X=True\n",
    "    normalize=True # Normalizes data using StandardScaler()\n",
    "    random_state=42"
   ]
  },
  {
   "cell_type": "markdown",
   "metadata": {
    "colab_type": "text",
    "id": "syhZfjiI-PB3"
   },
   "source": [
    "## Answer 1.3"
   ]
  },
  {
   "cell_type": "code",
   "execution_count": 8,
   "metadata": {},
   "outputs": [
    {
     "name": "stdout",
     "output_type": "stream",
     "text": [
      "The best alpha value using ridge:  0.0936908711430192\n",
      "Ridge R2 is:  0.6835243673854249\n"
     ]
    }
   ],
   "source": [
    "from sklearn.linear_model import RidgeCV\n",
    "\n",
    "ridge_regression = linear_model.RidgeCV(alphas=alphas, normalize=True)\n",
    "ridge_model = ridge_regression.fit(train_scalex, y_train)\n",
    "ridge_pred_y = ridge_model.predict(test_scalex)\n",
    "test_R2ridge = r2_score(y_test, ridge_pred_y)\n",
    "\n",
    "print('The best alpha value using ridge: ',ridge_model.alpha_)\n",
    "print('Ridge R2 is: ',test_R2ridge)"
   ]
  },
  {
   "cell_type": "markdown",
   "metadata": {
    "colab_type": "text",
    "id": "Y-6cOe7V7DCz"
   },
   "source": [
    "## Question 1.4  (8 points) \n",
    "Run [ElasticNet](https://scikit-learn.org/stable/modules/generated/sklearn.linear_model.ElasticNet.html) [(Video Reference)](https://youtu.be/1dKRdX9bfIo) on the `X_train_lasso` dataset by using all possible values from the below mentioned parameter set:\n",
    "\n",
    "    l1_ratios = np.arange(0, 1.01, 0.01)  # 101 elements\n",
    "    alphas = 10**np.linspace(1, -2, 100)*0.5 # 100 elements\n",
    "    normalize = True\n",
    "    random_state = 42\n",
    "\n",
    "\n",
    "Store the $R^2$ score obtained from `X_test_lasso` set for each combination in an array with 101 rows and 100 columns. e.g.\n",
    "\n",
    "    arr[i][j] = curr_r2_score # obtained using l1_ratios[i] and alphas[j]\n",
    "\n",
    "where `i` is the `ith` element from `l1_ratio` and `j` is the `jth` element from `alphas`. Print the best $R^2$ score obtained using test set and its corresponding `alpha` and `l1 ratio`."
   ]
  },
  {
   "cell_type": "code",
   "execution_count": 9,
   "metadata": {
    "colab": {},
    "colab_type": "code",
    "id": "ZZiKAbk4jGXu"
   },
   "outputs": [],
   "source": [
    "arr = np.zeros((101, 100)) # Create 101x100 array"
   ]
  },
  {
   "cell_type": "markdown",
   "metadata": {
    "colab_type": "text",
    "id": "GFwZrCRViynq"
   },
   "source": [
    "Note that by varying the `l1_ratio`, you are controlling the ratio of Lasso and Ridge regularization that is present in the model. When `l1_ratio = 1`, it means that the model uses Lasso regularization only whereas when `l1_ratio = 0`, it means that the model uses Ridge regularization only. You can find the formula for the loss function [here](https://scikit-learn.org/stable/modules/generated/sklearn.linear_model.ElasticNet.html)."
   ]
  },
  {
   "cell_type": "markdown",
   "metadata": {
    "colab_type": "text",
    "id": "r5ksUkeL-MbL"
   },
   "source": [
    "## Answer 1.4"
   ]
  },
  {
   "cell_type": "code",
   "execution_count": 10,
   "metadata": {},
   "outputs": [],
   "source": [
    "from sklearn.linear_model import ElasticNet\n",
    "\n",
    "arr = np.zeros((101, 100)) # creating array of 101x100 \n",
    "l1_ratios = np.arange(0, 1.01, 0.01)\n",
    "l1_ratios = l1_ratios.tolist()# 101 elements\n",
    "alphas = 10**np.linspace(1, -2, 100)*0.5 # 100 elements\n",
    "alphas = alphas.tolist()\n",
    "\n",
    "\n",
    "for i in l1_ratios:\n",
    "    a = l1_ratios.index(i)\n",
    "    for j in alphas:\n",
    "        b = alphas.index(j)\n",
    "        elastic_regression = ElasticNet(alpha = j, l1_ratio = i, normalize = True, random_state = 42)\n",
    "        elastic_net_model = elastic_regression.fit(X_train_lasso, y_train)\n",
    "        elastic_pred_y = elastic_net_model.predict(X_test_lasso)\n",
    "        elastic_net_R2 = r2_score(y_test, elastic_pred_y)\n",
    "        arr[a][b] = elastic_net_R2"
   ]
  },
  {
   "cell_type": "code",
   "execution_count": 11,
   "metadata": {},
   "outputs": [
    {
     "name": "stdout",
     "output_type": "stream",
     "text": [
      "The R score is 0.8551357959535693\n",
      "(array([100], dtype=int64), array([99], dtype=int64))\n",
      "Alpha is 0.005\n",
      "The l1 ratio is 1.0\n",
      "Since l1 ratio = 1, it means the model is using Lasso\n"
     ]
    }
   ],
   "source": [
    "max_arrval = np.max(arr)\n",
    "print('The R score is', max_arrval)\n",
    "\n",
    "arr_val = np.where(arr == np.max(arr))\n",
    "\n",
    "print(arr_val)\n",
    "print('Alpha is', alphas[99])\n",
    "print('The l1 ratio is', l1_ratios[100])\n",
    "print('Since l1 ratio = 1, it means the model is using Lasso')"
   ]
  },
  {
   "cell_type": "markdown",
   "metadata": {
    "colab_type": "text",
    "id": "D6eM7mR189cP"
   },
   "source": [
    "## Question 1.5 (3 points) \n",
    "Call `plot_heatmap()` using the 101x100 array (after flipping it horizontally using [np.fliplr()](https://numpy.org/doc/stable/reference/generated/numpy.fliplr.html)) from the previous question. What does this heatmap represent? Interpret the heatmap."
   ]
  },
  {
   "cell_type": "code",
   "execution_count": 12,
   "metadata": {
    "colab": {},
    "colab_type": "code",
    "id": "2SVYnItgCCAR"
   },
   "outputs": [],
   "source": [
    "def rescale(val, in_min, in_max, out_min, out_max):\n",
    "    return out_min + (val - in_min) * ((out_max - out_min) / (in_max - in_min))\n",
    "\n",
    "def format_y(value, tick_number):\n",
    "    return f'{value/100.:0.2f}'\n",
    "\n",
    "def format_x(value, tick_number):\n",
    "    return f'{rescale(value, 0., 100., 0.05, 5.):0.2f}'\n",
    "\n",
    "def plot_heatmap(arr):\n",
    "    ax = sns.heatmap(arr)\n",
    "    ax.set_ylabel(\"L1 Ratio\")\n",
    "    ax.set_xlabel(\"alpha\")\n",
    "    ax.invert_yaxis()\n",
    "    ax.xaxis.set_major_formatter(plt.FuncFormatter(format_x))\n",
    "    ax.yaxis.set_major_formatter(plt.FuncFormatter(format_y))"
   ]
  },
  {
   "cell_type": "markdown",
   "metadata": {
    "colab_type": "text",
    "id": "q5QVYStf9zuA"
   },
   "source": [
    "## Answer 1.5"
   ]
  },
  {
   "cell_type": "code",
   "execution_count": 13,
   "metadata": {},
   "outputs": [
    {
     "data": {
      "image/png": "[encoded data removed]",
      "text/plain": [
       "<Figure size 432x288 with 2 Axes>"
      ]
     },
     "metadata": {
      "needs_background": "light"
     },
     "output_type": "display_data"
    }
   ],
   "source": [
    "flipped_arr = np.fliplr(arr) # We are flipping the array horizontally\n",
    "plot_heatmap(flipped_arr)"
   ]
  },
  {
   "cell_type": "markdown",
   "metadata": {},
   "source": [
    "The heat map shows us that as we increase the alpha value, the R2 ratio also increases.\n",
    "From the heat map we can see that the L1 Ratio is leaning towards 1 which tells us that lasso is more important. This tells us that there were many variables that that did not explain life expectancy well so we should 0 them."
   ]
  },
  {
   "cell_type": "markdown",
   "metadata": {
    "colab_type": "text",
    "id": "fXL1_aVfCktf"
   },
   "source": [
    "# Question 2 (5 points)\n",
    "Suppose you learn a ridge regression based on some of the independent variables available to you, and including a few interaction terms as well. Your result is disappointing, and you believe that the model is suffering from either too much bias or too much variance. Describe briefly how you will test which alternative is more likely to be true. (there is no extra data that you can use, so “get more data” is not an option)."
   ]
  },
  {
   "cell_type": "markdown",
   "metadata": {},
   "source": [
    "## Answer 2"
   ]
  },
  {
   "cell_type": "markdown",
   "metadata": {},
   "source": [
    "The dilemma we are facing right now is called the bias variance tradeoff. If our model is too simple and has few parameters it may have high bias and low variance, but if our model has a lot of parameters then there is a high chance that our model has high variance and low bias. High bias is a scenario where our model is underfitting and usually has a high error rate. High variance is a scenario where our model is overfitting, this is bad because although this may result in high accuracy for the current dataset, we are unsure how it will perform on future datasets. In order to test if our model has high bias or high variance we can run a ridge cross validation on the alphas by observing the MSE scores for each alpha. Generally a high alpha leads to low variance and a high bias. On the other hand a low alpha leads to high variance and a low bias.  \n",
    "  \n",
    "In other words, we run ridge regression to add in bias into the model depending on the value of alpha. If we increase alpha even more and we find that our results are still bad, then that means that the model is suffering from too much bias rather than too much variance. If we increase alpha and our results improve, then that means that we had too much variance rather than too much bias. "
   ]
  },
  {
   "cell_type": "markdown",
   "metadata": {},
   "source": [
    "# Question 3 Bias-Variance (20 pts): \n",
    "\n",
    "We want to build a model that can predict y for unknown inputs x.(15 pts)\n",
    "\n",
    "(a) (5 pts) Fit a linear model to the training data, and report mean squared error on the test data. Plot the train and test points on the same plot, clearly denoting the training and testing points. On the same figure, plot the predictions of the linear model using x_all. All the plots must be in the same figure and be clearly labeled.\n",
    "\n",
    "\n",
    "(b) (10 pts) Fit polynomial models of degrees 2, 3, 4 and 12 to the training data, Report mean squared error (on both train and test sets) for all the models. Plot the data (train and test points) as before.  On the same figure, plot the predictions of the polynomial models using x_all. All the plots must be in the same figure and be clearly labeled.\n",
    "\n",
    "\n",
    "(c) (5 pts) Which model performed the best? Explain.\n"
   ]
  },
  {
   "cell_type": "markdown",
   "metadata": {},
   "source": [
    "* Use the below code to load the data from the file 'ps01.data'. It is organized as a dictionary, of train and test data."
   ]
  },
  {
   "cell_type": "code",
   "execution_count": 14,
   "metadata": {},
   "outputs": [],
   "source": [
    "from sklearn import linear_model as lm\n",
    "from sklearn.metrics import mean_squared_error,mean_absolute_error\n",
    "import matplotlib.pyplot as plt\n",
    "import numpy as np\n",
    "%matplotlib inline\n",
    "\n",
    "x_all = np.linspace(-2,5,101).reshape(-1,1)\n",
    "all_files = np.load(\"q3_data.npz\")\n",
    "x_train, y_train, x_test, y_test = all_files['arr_0'], all_files['arr_1'], all_files['arr_2'], all_files['arr_3']"
   ]
  },
  {
   "cell_type": "markdown",
   "metadata": {},
   "source": [
    "### Answer"
   ]
  },
  {
   "cell_type": "markdown",
   "metadata": {},
   "source": [
    "#### (a)"
   ]
  },
  {
   "cell_type": "code",
   "execution_count": 15,
   "metadata": {},
   "outputs": [
    {
     "name": "stdout",
     "output_type": "stream",
     "text": [
      "Mean Squared Error on test: 4.739110717634691\n"
     ]
    },
    {
     "data": {
      "text/plain": [
       "Text(0, 0.5, 'y')"
      ]
     },
     "execution_count": 15,
     "metadata": {},
     "output_type": "execute_result"
    },
    {
     "data": {
      "image/png": "[encoded data removed]",
      "text/plain": [
       "<Figure size 432x288 with 1 Axes>"
      ]
     },
     "metadata": {
      "needs_background": "light"
     },
     "output_type": "display_data"
    }
   ],
   "source": [
    "import matplotlib.pyplot as plt\n",
    "\n",
    "#Creating the linear model.\n",
    "linear_reg = lm.LinearRegression()\n",
    "linear_reg.fit(x_train, y_train)\n",
    "test_pred = linear_reg.predict(x_test)\n",
    "mse=mean_squared_error(y_test, test_pred)\n",
    "print('Mean Squared Error on test:', mse)\n",
    "x_all_pred = linear_reg.predict(x_all)\n",
    "\n",
    "#Create train and test split. Plot the data.\n",
    "train=plt.scatter(x_train, y_train, label='train')\n",
    "test=plt.scatter(x_test, y_test, label='test')\n",
    "regression=plt.plot(x_test, test_pred, color='red', linewidth=3)\n",
    "plt.legend(handles=[train, test])\n",
    "plt.xlabel(\"x\")\n",
    "plt.ylabel(\"y\")"
   ]
  },
  {
   "cell_type": "markdown",
   "metadata": {},
   "source": [
    "### (b)"
   ]
  },
  {
   "cell_type": "code",
   "execution_count": 16,
   "metadata": {},
   "outputs": [
    {
     "name": "stdout",
     "output_type": "stream",
     "text": [
      "Quadratic train MSE:  3.241421853814466\n",
      "Quadratic test MSE:  3.118688012803552\n",
      "Cubic train MSE:  1.4201223351315244\n",
      "Cubic test MSE:  1.6698703639509378\n",
      "Quartic train MSE:  0.3745950147780304\n",
      "Quartic test MSE:  0.2793974390234908\n",
      "12th degree polynomial train MSE:  0.32974847922651873\n",
      "12th degree polynomial test MSE:  0.40228762196683066\n"
     ]
    },
    {
     "data": {
      "text/plain": [
       "Text(0.5, 1.0, 'Comparison of Regressions')"
      ]
     },
     "execution_count": 16,
     "metadata": {},
     "output_type": "execute_result"
    },
    {
     "data": {
      "image/png": "[encoded data removed]",
      "text/plain": [
       "<Figure size 432x288 with 1 Axes>"
      ]
     },
     "metadata": {
      "needs_background": "light"
     },
     "output_type": "display_data"
    }
   ],
   "source": [
    "#Load in the polynomial feature package\n",
    "from sklearn.preprocessing import PolynomialFeatures\n",
    "#more detailed comments for quadratic. Otherwise, code essentially is the same for the rest of the models.\n",
    "\n",
    "############################################ Quadratic Polynomial ############################################\n",
    "quadratric= PolynomialFeatures(degree=2)\n",
    "\n",
    "#Reshape train and test data\n",
    "x_train_quad = quadratric.fit_transform(x_train)\n",
    "x_test_quad = quadratric.fit_transform(x_test)\n",
    "\n",
    "#Create the model\n",
    "model_quad = LinearRegression()\n",
    "model_quad.fit(x_train_quad, y_train)\n",
    "\n",
    "#Use model to predict values\n",
    "y_train_pred_quad = model_quad.predict(x_train_quad)\n",
    "y_test_pred_quad = model_quad.predict(x_test_quad)\n",
    "mse_quad_train=mean_squared_error(y_train, y_train_pred_quad)\n",
    "mse_quad_test=mean_squared_error(y_test, y_test_pred_quad)\n",
    "\n",
    "#Output MSE\n",
    "print('Quadratic train MSE: ', mse_quad_train)\n",
    "print('Quadratic test MSE: ', mse_quad_test)\n",
    "\n",
    "####################################### Cubic polynomial #######################################################\n",
    "cubic= PolynomialFeatures(degree=3)\n",
    "x_train_cubic = cubic.fit_transform(x_train)\n",
    "x_test_cubic = cubic.fit_transform(x_test)\n",
    "model_cubic = LinearRegression()\n",
    "model_cubic.fit(x_train_cubic, y_train)\n",
    "y_train_pred_cubic = model_cubic.predict(x_train_cubic)\n",
    "y_test_pred_cubic = model_cubic.predict(x_test_cubic)\n",
    "mse_cubic_train=mean_squared_error(y_train, y_train_pred_cubic)\n",
    "mse_cubic_test=mean_squared_error(y_test, y_test_pred_cubic)\n",
    "\n",
    "print('Cubic train MSE: ', mse_cubic_train)\n",
    "print('Cubic test MSE: ', mse_cubic_test)\n",
    "\n",
    "####################################### Cubic polynomial #######################################################\n",
    "quartic= PolynomialFeatures(degree=4)\n",
    "x_train_quartic = quartic.fit_transform(x_train)\n",
    "x_test_quartic = quartic.fit_transform(x_test)\n",
    "model_quartic = LinearRegression()\n",
    "model_quartic.fit(x_train_quartic, y_train)\n",
    "y_train_pred_quartic = model_quartic.predict(x_train_quartic)\n",
    "y_test_pred_quartic = model_quartic.predict(x_test_quartic)\n",
    "mse_quartic_train=mean_squared_error(y_train, y_train_pred_quartic)\n",
    "mse_quartic_test=mean_squared_error(y_test, y_test_pred_quartic)\n",
    "\n",
    "print('Quartic train MSE: ', mse_quartic_train)\n",
    "print('Quartic test MSE: ', mse_quartic_test)\n",
    "\n",
    "##################### 12 degree polynomial (dodecanomial) #######################################################\n",
    "polynomial_12_deg= PolynomialFeatures(degree=12)\n",
    "x_train_poly_12_deg = polynomial_12_deg.fit_transform(x_train)\n",
    "x_test_poly_12_deg = polynomial_12_deg.fit_transform(x_test)\n",
    "model_12_deg = LinearRegression()\n",
    "model_12_deg.fit(x_train_poly_12_deg, y_train)\n",
    "y_train_pred_poly_12_deg = model_12_deg.predict(x_train_poly_12_deg)\n",
    "y_test_pred_poly_12_deg = model_12_deg.predict(x_test_poly_12_deg)\n",
    "mse_12_deg_train=mean_squared_error(y_train, y_train_pred_poly_12_deg)\n",
    "mse_12_deg_test=mean_squared_error(y_test, y_test_pred_poly_12_deg)\n",
    "\n",
    "print('12th degree polynomial train MSE: ', mse_12_deg_train)\n",
    "print('12th degree polynomial test MSE: ', mse_12_deg_test)\n",
    "\n",
    "#Scatterplot train and testing points\n",
    "train=plt.scatter(x_train, y_train, label='train')\n",
    "test=plt.scatter(x_test, y_test, label='test')\n",
    "\n",
    "#Plot each regression\n",
    "regression_2=plt.plot(x_all, model_quad.predict(quadratric.fit_transform(x_all)), color='blue', linewidth=3, label='Quadratic')\n",
    "regression_3=plt.plot(x_all, model_cubic.predict(cubic.fit_transform(x_all)), color='green', linewidth=3, label='Cubic')\n",
    "regression_4=plt.plot(x_all, model_quartic.predict(quartic.fit_transform(x_all)), color='red', linewidth=3, label='Quartic')\n",
    "regression_12=plt.plot(x_all, model_12_deg.predict(polynomial_12_deg.fit_transform(x_all)), color='brown', linewidth=3, label='12-nomial')\n",
    "\n",
    "#Label the graph\n",
    "plt.legend(loc='best')\n",
    "plt.xlabel(\"x\")\n",
    "plt.ylabel(\"y\")\n",
    "plt.title(\"Comparison of Regressions\")"
   ]
  },
  {
   "cell_type": "markdown",
   "metadata": {},
   "source": [
    "### (c)"
   ]
  },
  {
   "cell_type": "markdown",
   "metadata": {},
   "source": [
    "In terms of lowest test mean square errors, the quartic model performed the best. It generally performed well as it is relatively unbiased towards the data and avoids overfitting unlike the 12th degree polynomial. The 12th degree polynomial performed well on the training data but overfitting caused a lower test mean square error. The other quadratic and cubic models are biased models in that they are not a good approximation of the true relationship of the points. "
   ]
  },
  {
   "cell_type": "markdown",
   "metadata": {},
   "source": [
    "# Question 4 - Stochastic Gradient Descent (25 pts)"
   ]
  },
  {
   "cell_type": "markdown",
   "metadata": {},
   "source": [
    "1. (5pts) Using stochastic gradient descent, derive the coefficent updates for all 4 coefficients of the model: $$ y = w_0 + w_1x_1 + w_2x_1x_2 + w_3e^{-x_1} $$ Hint: start from the cost function (Assume sum of squared error). If you write the math by hand, include the image in your notebook and upload the image in the submission.\n",
    "\n",
    "\n",
    "2. (20pts) Write Python code for an SGD solution to the non-linear model$$ y = w_0 + w_1x_1 + w_2x_1x_2 + w_3e^{-x_1} $$  Try to format similarly to scikit-learn's models. The template of the class is given. The init function of the class takes as input the learning_rate, regularization_constant and number of epochs. The fit method must take as input X,y. The _predict_ method takes an X value (optionally, an array of values). Use your new gradient descent regression to predict the data given in 'samples.csv', for 15 epochs, using learning rates: [0, .0001, .001, .01, 0.1, 1, 10, 100] and regularization (ridge regression) constants: [0,10,100] . Plot MSE and the $w$ parameters as a function of epoch (for 15 epochs) for the best 2 combinations of learning_rate and regularization for SGD. (2pts) Report the MSE at the end of 15 epochs for the two best combinations.\n"
   ]
  },
  {
   "cell_type": "code",
   "execution_count": 17,
   "metadata": {},
   "outputs": [],
   "source": [
    "%matplotlib inline\n",
    "import random\n",
    "import numpy as np\n",
    "import matplotlib.pyplot as plt\n",
    "import pandas as pd\n",
    "import math\n",
    "\n",
    "class Regression:\n",
    "    \n",
    "    def __init__(self, learning_rate, regularization, n_epoch):\n",
    "        self.learning_rate = learning_rate\n",
    "        self.n_epoch = n_epoch\n",
    "        self.regularization = regularization\n",
    "        \n",
    "    def sgd(self, gradient):\n",
    "        self.coef # = please fill this to update self.coef using SGD\n",
    "    \n",
    "        \n",
    "    def fit(self, X, y, update_rule='sgd', plot=False):\n",
    "        mse = []\n",
    "        coefs = []\n",
    "        self.cache = np.zeros(self.coef.shape)\n",
    "        self.v = np.zeros(self.coef.shape)\n",
    "        self.decay_rate = 0.9\n",
    "        X = self.get_features(X)\n",
    "        for epoch in range(self.n_epoch):\n",
    "            for i in range(X.shape[0]):\n",
    "                # Compute error\n",
    "                   #please fill this\n",
    "                # Compute gradients\n",
    "                    #please fill this\n",
    "               \n",
    "                # Update weights\n",
    "                self.sgd(gradient)\n",
    "\n",
    "            coefs.append(self.coef)\n",
    "            residuals = y - self.linearPredict(X)         \n",
    "            mse.append(np.mean(residuals**2))\n",
    "        self.lowest_mse = mse[-1]\n",
    "        if plot == True:\n",
    "            plt.figure()\n",
    "            plt.plot(range(self.n_epoch),mse)\n",
    "            plt.xlabel('epoch')\n",
    "            plt.ylabel('MSE')\n",
    "            plt.figure()\n",
    "            coefs = np.array(coefs)\n",
    "            plt.plot(range(self.n_epoch),coefs[:,0],label='w0')\n",
    "            plt.plot(range(self.n_epoch),coefs[:,1],label='w1')\n",
    "            plt.plot(range(self.n_epoch),coefs[:,2],label='w2')\n",
    "            plt.plot(range(self.n_epoch),coefs[:,3],label='w3')\n",
    "            plt.legend()\n",
    "            plt.xlabel('epoch')\n",
    "            plt.ylabel('parameter value')\n",
    "\n",
    "    def get_features(self, X):\n",
    "        '''\n",
    "        this output of this function can be used to compute the gradient in `fit`\n",
    "        '''\n",
    "        x = np.zeros((X.shape[0], 4))\n",
    "        x[:,0] = 1\n",
    "        x[:,1] = X[:,0]\n",
    "        x[:,2] = X[:,0]*X[:,1]\n",
    "        \n",
    "        #This term is not in the actual model.\n",
    "        #x[:,3] = (X[:,0]**2) * (X[:,1])\n",
    "        \n",
    "        #Instead change the fourth term here to the actual third term\n",
    "        x[:,3] = np.exp(-X[:,0])\n",
    "        \n",
    "        return x\n",
    "        \n",
    "    #def linearPredict(self, X):  \n",
    "        #compute dot product of self.coef and X\n",
    "        \n",
    "        "
   ]
  },
  {
   "cell_type": "code",
   "execution_count": 18,
   "metadata": {},
   "outputs": [],
   "source": [
    "data = pd.read_csv('q4_samples.csv')\n",
    "X = np.array([data['x1'].values, data['x2'].values]).T\n",
    "y = data['y'].values\n",
    "n_epochs = 15\n",
    "learning_rate = [0.0001, 0.001, 0.01, 0.1, 1, 10, 100]\n",
    "regularization = [0, 10, 100]"
   ]
  },
  {
   "cell_type": "markdown",
   "metadata": {},
   "source": [
    "## Answer "
   ]
  },
  {
   "cell_type": "markdown",
   "metadata": {},
   "source": [
    "### 1."
   ]
  },
  {
   "cell_type": "markdown",
   "metadata": {},
   "source": [
    "#### Initial Model:"
   ]
  },
  {
   "cell_type": "markdown",
   "metadata": {},
   "source": [
    "$$ y = w_0 + w_1x_1 + w_2x_1x_2 + w_3e^{-x_1} $$  \n",
    "Let L stand for the loss function which is the sum of square errors (SSE)."
   ]
  },
  {
   "cell_type": "markdown",
   "metadata": {},
   "source": [
    "$$\n",
    "\\begin{eqnarray*}\n",
    "SSE = L &=& \\sum_{i=1}^n (y_i-\\hat{y}_i)^2 \\\\\n",
    "L &=& \\sum_{i=1}^n (y_i - \\hat{w}_0 - \\hat{w}_1x_1 - \\hat{w}_2x_1x_2 - \\hat{w}_3e^{-x_1})^2 \\\\\n",
    "\\frac{\\partial}{\\partial_{\\hat{w}_0}} (L) &=& - 2 \\sum_{i=1}^n (y_i - \\hat{w}_0 - \\hat{w}_1x_1 - \\hat{w}_2x_1x_2 - \\hat{w}_3e^{-x_1}) \\\\\n",
    "&=& -2 \\sum_{i=1}^n y_i + 2n\\hat{w}_0 + 2 \\hat{w}_1 \\sum_{i=1}^n x_1 + 2 \\hat{w}_2 \\sum_{i=1}^n x_1 x_2 + 2 \\hat{w}_3 \\sum_{i=1}^n e^{-x_1} \\\\\n",
    "&=& 2(- \\sum_{i=1}^n y_i + n\\hat{w}_0 +  \\hat{w}_1 \\sum_{i=1}^n x_1 +  \\hat{w}_2 \\sum_{i=1}^n x_1 x_2 +  \\hat{w}_3 \\sum_{i=1}^n e^{-x_1}) \\\\\n",
    "\\frac{\\partial}{\\partial_{\\hat{w}_1}} (L) &=& -2 \\sum_{i=1}^n x_1(y_i - \\hat{w}_0 - \\hat{w}_1x_1 - \\hat{w}_2x_1x_2 - \\hat{w}_3e^{-x_1}) \\\\\n",
    "&=& -2 \\sum_{i=1}^n x_1 y_i + 2 \\hat{w}_0 \\sum_{i=1}^n x_1 +  2 \\hat{w}_1 \\sum_{i=1}^n x_1^2 + 2 \\hat{w}_2 \\sum_{i=1}^n x_1^2x_2 + 2 \\hat{w}_3 \\sum_{i=1}^n x_1 e^{-x_1} \\\\\n",
    "&=& 2(- \\sum_{i=1}^n x_1 y_i +  \\hat{w}_0 \\sum_{i=1}^n x_1 +   \\hat{w}_1 \\sum_{i=1}^n x_1^2 +  \\hat{w}_2 \\sum_{i=1}^n x_1^2x_2 +  \\hat{w}_3 \\sum_{i=1}^n x_1 e^{-x_1}) \\\\\n",
    "\\frac{\\partial}{\\partial_{\\hat{w}_2}} (L) &=& -2 \\sum_{i=1}^n x_1x_2(y_i - \\hat{w}_0 - \\hat{w}_1x_1 - \\hat{w}_2x_1x_2 - \\hat{w}_3e^{-x_1}) \\\\\n",
    "&=& -2 \\sum_{i=1}^n x_1x_2 y_i + 2 \\hat{w}_0 \\sum_{i=1}^n x_1x_2 +  2 \\hat{w}_1 \\sum_{i=1}^n x_1^2x_2 + 2 \\hat{w}_2 \\sum_{i=1}^n x_1^2x_2^2 + 2 \\hat{w}_3 \\sum_{i=1}^n x_1x_2 e^{-x_1} \\\\\n",
    "&=& 2(- \\sum_{i=1}^n x_1x_2 y_i +  \\hat{w}_0 \\sum_{i=1}^n x_1x_2 +   \\hat{w}_1 \\sum_{i=1}^n x_1^2x_2 +  \\hat{w}_2 \\sum_{i=1}^n x_1^2x_2^2 +  \\hat{w}_3 \\sum_{i=1}^n x_1x_2 e^{-x_1}) \\\\\n",
    "\\frac{\\partial}{\\partial_{\\hat{w}_3}} (L) &=& -2 \\sum_{i=1}^n e^{-x_1}(y_i - \\hat{w}_0 - \\hat{w}_1x_1 - \\hat{w}_2x_1x_2 - \\hat{w}_3e^{-x_1}) \\\\\n",
    "&=& -2 \\sum_{i=1}^n e^{-x_1} y_i + 2 \\hat{w}_0 \\sum_{i=1}^n e^{-x_1} +  2 \\hat{w}_1 \\sum_{i=1}^n x_1 e^{-x_1} + 2 \\hat{w}_2 \\sum_{i=1}^n x_1x_2 e^{-x_1} + 2 \\hat{w}_3 \\sum_{i=1}^n x_1 e^{-2x_1} \\\\\n",
    "&=& 2(- \\sum_{i=1}^n e^{-x_1} y_i +  \\hat{w}_0 \\sum_{i=1}^n e^{-x_1} +   \\hat{w}_1 \\sum_{i=1}^n x_1 e^{-x_1} +  \\hat{w}_2 \\sum_{i=1}^n x_1x_2 e^{-x_1} +  \\hat{w}_3 \\sum_{i=1}^n x_1 e^{-2x_1})\n",
    "\\end{eqnarray*}\n",
    "$$"
   ]
  },
  {
   "cell_type": "markdown",
   "metadata": {},
   "source": [
    "Each of these partials will be relevant for how the weight/step functions are computed. To keep things simple, we simplify things down in terms of $\\hat{y}$ and $y$. Let $w^*$ stand for the new weight and $w$ for the old weight. Let $\\eta$ be the learning rate. The four respective gradients are then:"
   ]
  },
  {
   "cell_type": "markdown",
   "metadata": {},
   "source": [
    "$$\n",
    "\\begin{eqnarray*}\n",
    "w_0^* &=& w_0 - \\eta[ \\sum_{i=1}^n 2*(\\hat{y}-y)] \\\\\n",
    "w_1^* &=& w_1 - \\eta [\\sum_{i=1}^n 2*(\\hat{y}-y)*x_1] \\\\\n",
    "w_2^* &=& w_2 - \\eta [\\sum_{i=1}^n 2*(\\hat{y}-y)*x_1x_2] \\\\\n",
    "w_3^* &=& w_3 - \\eta [\\sum_{i=1}^n 2*(\\hat{y}-y)*e^{-x_1}] \\\\\n",
    "\\end{eqnarray*}\n",
    "$$"
   ]
  },
  {
   "cell_type": "markdown",
   "metadata": {},
   "source": [
    "### 2."
   ]
  },
  {
   "cell_type": "code",
   "execution_count": 19,
   "metadata": {},
   "outputs": [],
   "source": [
    "#Modified the class template here. \n",
    "class Regression:\n",
    "    \n",
    "    def __init__(self, learning_rate, regularization, n_epoch):\n",
    "        self.learning_rate = learning_rate\n",
    "        self.n_epoch = n_epoch\n",
    "        self.regularization = regularization\n",
    "        #Initial guesses for the weights are zeros\n",
    "        #Can modify or change the array if need be.\n",
    "        self.coef = np.zeros(4)\n",
    "        \n",
    "    def sgd(self, gradient):\n",
    "        #self coefficient update designed with the equations in 1 in mind.\n",
    "        self.coef = self.coef - (self.learning_rate*gradient)\n",
    "    \n",
    "        \n",
    "    def fit(self, X, y, update_rule='sgd', plot=False):\n",
    "        mse = []\n",
    "        coefs = []\n",
    "        self.cache = np.zeros(self.coef.shape)\n",
    "        self.v = np.zeros(self.coef.shape)\n",
    "        self.decay_rate = 0.9\n",
    "        X = self.get_features(X)\n",
    "        for epoch in range(self.n_epoch):\n",
    "            for i in range(X.shape[0]):\n",
    "                # Compute error\n",
    "                #get the array of two points.\n",
    "                X_i = X[i,:]\n",
    "                \n",
    "                #Error is yhat-y.\n",
    "                error_i = self.linearPredict(X_i) - y[i]\n",
    "                \n",
    "                # Compute gradients\n",
    "                gradient = np.array([2*error_i, #Error term already in format.\n",
    "                                     2*error_i*X_i[0], #X_i[0] is x1\n",
    "                                     2*error_i*X_i[0]*X_i[1], #X_i[1] is x2\n",
    "                                     2*error_i*math.exp(X_i[0]) #math.exp is exponent function for e^\n",
    "                ])\n",
    "               \n",
    "                # Update weights\n",
    "                self.sgd(gradient)\n",
    "\n",
    "            coefs.append(self.coef)\n",
    "            residuals = y - self.linearPredict(X)         \n",
    "            mse.append(np.mean(residuals**2))\n",
    "        self.lowest_mse = mse[-1]\n",
    "        if plot == True:\n",
    "            plt.figure()\n",
    "            plt.plot(range(self.n_epoch),mse)\n",
    "            plt.xlabel('epoch')\n",
    "            plt.ylabel('MSE')\n",
    "            plt.figure()\n",
    "            coefs = np.array(coefs)\n",
    "            plt.plot(range(self.n_epoch),coefs[:,0],label='w0')\n",
    "            plt.plot(range(self.n_epoch),coefs[:,1],label='w1')\n",
    "            plt.plot(range(self.n_epoch),coefs[:,2],label='w2')\n",
    "            plt.plot(range(self.n_epoch),coefs[:,3],label='w3')\n",
    "            plt.legend()\n",
    "            plt.xlabel('epoch')\n",
    "            plt.ylabel('parameter value')\n",
    "\n",
    "    def get_features(self, X):\n",
    "        '''\n",
    "        this output of this function can be used to compute the gradient in `fit`\n",
    "        '''\n",
    "        x = np.zeros((X.shape[0], 4))\n",
    "        x[:,0] = 1\n",
    "        x[:,1] = X[:,0]\n",
    "        x[:,2] = X[:,0]*X[:,1]\n",
    "        \n",
    "        #This term is not in the actual model. So I commentated it out.\n",
    "        #x[:,3] = (X[:,0]**2) * (X[:,1])\n",
    "        \n",
    "        #Instead change the fourth term here to the actual third term\n",
    "        x[:,3] = np.exp(-X[:,0])\n",
    "        \n",
    "        return x\n",
    "        \n",
    "    def linearPredict(self, X):  \n",
    "    #compute dot product of self.coef and X\n",
    "        return X.dot(self.coef)\n",
    "        "
   ]
  },
  {
   "cell_type": "markdown",
   "metadata": {},
   "source": [
    "### Using SGD\n"
   ]
  },
  {
   "cell_type": "code",
   "execution_count": 20,
   "metadata": {},
   "outputs": [
    {
     "name": "stdout",
     "output_type": "stream",
     "text": [
      "Combos are displayed in the following format: (learning rate, regularization).\n",
      "The first best combo is (0.0001, 0)\n",
      "The second best combo is (0.0001, 10)\n",
      "Their MSE scores are [0.035464965659974396, 0.035464965659974396]\n"
     ]
    },
    {
     "data": {
      "image/png": "[encoded data removed]",
      "text/plain": [
       "<Figure size 432x288 with 1 Axes>"
      ]
     },
     "metadata": {
      "needs_background": "light"
     },
     "output_type": "display_data"
    },
    {
     "data": {
      "image/png": "[encoded data removed]",
      "text/plain": [
       "<Figure size 432x288 with 1 Axes>"
      ]
     },
     "metadata": {
      "needs_background": "light"
     },
     "output_type": "display_data"
    },
    {
     "data": {
      "image/png": "[encoded data removed]",
      "text/plain": [
       "<Figure size 432x288 with 1 Axes>"
      ]
     },
     "metadata": {
      "needs_background": "light"
     },
     "output_type": "display_data"
    },
    {
     "data": {
      "image/png": "[encoded data removed]",
      "text/plain": [
       "<Figure size 432x288 with 1 Axes>"
      ]
     },
     "metadata": {
      "needs_background": "light"
     },
     "output_type": "display_data"
    }
   ],
   "source": [
    "#Make a list of arrays for the learning rates and the regularization rates\n",
    "combo_list = []\n",
    "for lr in range(0, len(learning_rate)):\n",
    "    for reg in range(0, len(regularization)):\n",
    "        combo_list.append((learning_rate[lr], regularization[reg]))\n",
    "#Make an empty list for the lowest mse scores.\n",
    "lowest_mse_scores = []\n",
    "\n",
    "#Iterate over the list of arrays to find lowest mse.\n",
    "for i in range(0, len(combo_list)):\n",
    "    sgd = Regression(combo_list[i][0], combo_list[i][1], n_epochs)\n",
    "    sgd.fit(X,y,plot=False)\n",
    "    lowest_mse_scores.append(sgd.lowest_mse)\n",
    "\n",
    "#Show the best combo\n",
    "#Rounded to 4 decimal places\n",
    "chosen_combo_list = np.argsort(np.array(lowest_mse_scores))[:2]\n",
    "print(\"Combos are displayed in the following format: (learning rate, regularization).\")\n",
    "print('The first best combo is', combo_list[chosen_combo_list[0]])\n",
    "print('The second best combo is', combo_list[chosen_combo_list[1]])\n",
    "lowest_mse_scores = []\n",
    "#Iterate over the duo to put in the parameters to get the lowest mse score for each of them.\n",
    "for i in chosen_combo_list:\n",
    "    sgd = Regression(combo_list[i][0], combo_list[i][1], n_epochs)\n",
    "    sgd.fit(X,y,plot=True)\n",
    "    lowest_mse_scores.append(sgd.lowest_mse)\n",
    "print('Their MSE scores are', lowest_mse_scores)"
   ]
  },
  {
   "cell_type": "code",
   "execution_count": null,
   "metadata": {},
   "outputs": [],
   "source": []
  }
 ],
 "metadata": {
  "kernelspec": {
   "display_name": "Python 3",
   "language": "python",
   "name": "python3"
  },
  "language_info": {
   "codemirror_mode": {
    "name": "ipython",
    "version": 3
   },
   "file_extension": ".py",
   "mimetype": "text/x-python",
   "name": "python",
   "nbconvert_exporter": "python",
   "pygments_lexer": "ipython3",
   "version": "3.8.3"
  }
 },
 "nbformat": 4,
 "nbformat_minor": 1
}
